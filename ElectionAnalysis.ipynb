{
 "cells": [
  {
   "cell_type": "code",
   "execution_count": null,
   "metadata": {
    "collapsed": true
   },
   "outputs": [],
   "source": [
    "%matplotlib inline \n",
    "\n",
    "from fnmatch import fnmatch\n",
    "from IPython.display import display, HTML\n",
    "import numpy as np\n",
    "import pandas as pd\n",
    "import matplotlib.pyplot as plt\n",
    "import requests\n",
    "from pattern import web\n",
    "\n",
    "\n",
    "from matplotlib import rcParams\n",
    "\n",
    "dark2_colors = [(0.10588235294117647, 0.6196078431372549, 0.4666666666666667),\n",
    "                (0.8509803921568627, 0.37254901960784315, 0.00784313725490196),\n",
    "                (0.4588235294117647, 0.4392156862745098, 0.7019607843137254),\n",
    "                (0.9058823529411765, 0.1607843137254902, 0.5411764705882353),\n",
    "                (0.4, 0.6509803921568628, 0.11764705882352941),\n",
    "                (0.9019607843137255, 0.6705882352941176, 0.00784313725490196),\n",
    "                (0.6509803921568628, 0.4627450980392157, 0.11372549019607843),\n",
    "                (0.4, 0.4, 0.4)]\n",
    "\n",
    "rcParams['figure.figsize'] = (10, 6)\n",
    "rcParams['figure.dpi'] = 150\n",
    "rcParams['axes.color_cycle'] = dark2_colors\n",
    "rcParams['lines.linewidth'] = 2\n",
    "rcParams['axes.grid'] = True\n",
    "rcParams['axes.facecolor'] = '#eeeeee'\n",
    "rcParams['font.size'] = 14\n",
    "rcParams['patch.edgecolor'] = 'none'\n",
    "\n"
   ]
  },
  {
   "cell_type": "code",
   "execution_count": null,
   "metadata": {
    "collapsed": true
   },
   "outputs": [],
   "source": [
    "def get_poll_xml(poll_id):\n",
    "    url = \"http://charts.realclearpolitics.com/charts/%i.xml\" % int(poll_id)\n",
    "    return requests.get(url).text"
   ]
  },
  {
   "cell_type": "code",
   "execution_count": null,
   "metadata": {
    "collapsed": true
   },
   "outputs": [],
   "source": [
    "import re\n",
    "\n",
    "def _strip(s):\n",
    "    return re.sub(r'[\\W_]+', '', s)\n",
    "\n",
    "def plot_colors(xml):\n",
    "    dom = web.Element(xml)\n",
    "    result = {}\n",
    "    for graph in dom.by_tag('graph'):\n",
    "        title = _strip(graph.attributes['title'])\n",
    "        result[title] = graph.attributes['color']\n",
    "    return result"
   ]
  },
  {
   "cell_type": "code",
   "execution_count": null,
   "metadata": {
    "collapsed": true
   },
   "outputs": [],
   "source": [
    "def rcp_poll_data(xml): \n",
    "    dom = web.Element(xml)\n",
    "    result = {}\n",
    "    \n",
    "    dates = dom.by_tag('series')[0]    \n",
    "    dates = {n.attributes['xid']: str(n.content) for n in dates.by_tag('value')}\n",
    "    \n",
    "    keys = dates.keys()\n",
    "    \n",
    "    result['date'] = pd.to_datetime([dates[k] for k in keys])\n",
    "    \n",
    "    for graph in dom.by_tag('graph'):\n",
    "        name = graph.attributes['title']\n",
    "        data = {n.attributes['xid']: float(n.content) \n",
    "                if n.content else np.nan for n in graph.by_tag('value')}\n",
    "        result[name] = [data[k] for k in keys]\n",
    "        \n",
    "    result = pd.DataFrame(result)    \n",
    "    result = result.sort_values(by=['date'])\n",
    "        \n",
    "    return result"
   ]
  },
  {
   "cell_type": "code",
   "execution_count": null,
   "metadata": {
    "collapsed": true
   },
   "outputs": [],
   "source": [
    "def poll_plot(poll_id):\n",
    "    xml = get_poll_xml(poll_id)\n",
    "    data = rcp_poll_data(xml)\n",
    "    colors = plot_colors(xml)\n",
    "\n",
    "    data = data.rename(columns = {c: _strip(c) for c in data.columns})\n",
    "\n",
    "    norm = data[colors.keys()].sum(axis=1) / 100    \n",
    "    for c in colors.keys():\n",
    "        data[c] /= norm\n",
    "    \n",
    "    for label, color in colors.items():\n",
    "        plt.plot(data.date, data[label], color=color, label=label)        \n",
    "        \n",
    "    plt.xticks(rotation=70)\n",
    "    plt.legend(loc='best')\n",
    "    plt.xlabel(\"Date\")\n",
    "    plt.ylabel(\"Normalized Poll Percentage\")"
   ]
  },
  {
   "cell_type": "code",
   "execution_count": null,
   "metadata": {
    "collapsed": false
   },
   "outputs": [],
   "source": [
    "poll_plot(1044)\n",
    "plt.title(\"Obama Job Approval\")"
   ]
  },
  {
   "cell_type": "code",
   "execution_count": null,
   "metadata": {
    "collapsed": true
   },
   "outputs": [],
   "source": [
    "def is_gov_race(l):\n",
    "    pattern = 'http://www.realclearpolitics.com/epolls/????/governor/??/*-*.html'\n",
    "    return fnmatch(l, pattern)\n",
    "        \n",
    "def find_governor_races(html):\n",
    "    dom = web.Element(html)\n",
    "    links = [a.attributes.get('href', '') for a in dom.by_tag('a')] \n",
    "    links = [l for l in links if is_gov_race(l)]\n",
    "    #eliminate duplicates!\n",
    "    links = list(set(links))\n",
    "    return links"
   ]
  },
  {
   "cell_type": "code",
   "execution_count": null,
   "metadata": {
    "collapsed": true
   },
   "outputs": [],
   "source": [
    "def race_result(url):\n",
    "    \n",
    "    dom = web.Element(requests.get(url).text)\n",
    "    \n",
    "    table = dom.by_tag('div#polling-data-rcp')[0]\n",
    "    result_data = table.by_tag('tr.final')[0]\n",
    "    td = result_data.by_tag('td')\n",
    "\n",
    "    results = [float(t.content) for t in td[3:-1]]\n",
    "    tot = sum(results) / 100\n",
    "    \n",
    "    #get table headers\n",
    "    headers = table.by_tag('th')\n",
    "    labels = [str(t.content).split('(')[0].strip() for t in headers[3:-1]]\n",
    "    \n",
    "    return {l:r / tot for l, r in zip(labels, results)}"
   ]
  },
  {
   "cell_type": "code",
   "execution_count": null,
   "metadata": {
    "collapsed": true
   },
   "outputs": [],
   "source": [
    "def id_from_url(url):\n",
    "    return url.split('-')[-1].split('.html')[0]\n",
    "\n",
    "def plot_race(url):\n",
    "    id = id_from_url(url)\n",
    "    xml = get_poll_xml(id)    \n",
    "    colors = plot_colors(xml)\n",
    "\n",
    "    if len(colors) == 0:\n",
    "        return\n",
    "    \n",
    "    result = race_result(url)\n",
    "    \n",
    "    poll_plot(id)\n",
    "    plt.xlabel(\"Date\")\n",
    "    plt.ylabel(\"Polling Percentage\")\n",
    "    for r in result:\n",
    "        plt.axhline(result[r], color=colors[_strip(r)], alpha=0.6, ls='--')"
   ]
  },
  {
   "cell_type": "code",
   "execution_count": null,
   "metadata": {
    "collapsed": false
   },
   "outputs": [],
   "source": [
    "page = requests.get('http://www.realclearpolitics.com/epolls/2010/governor/2010_elections_governor_map.html').text.encode('ascii', 'ignore')\n",
    "\n",
    "for race in find_governor_races(page):\n",
    "    plot_race(race)\n",
    "    plt.show()"
   ]
  },
  {
   "cell_type": "code",
   "execution_count": null,
   "metadata": {
    "collapsed": true
   },
   "outputs": [],
   "source": [
    "def party_from_color(color):\n",
    "    if color in ['#0000CC', '#3B5998']:\n",
    "        return 'democrat'\n",
    "    if color in ['#FF0000', '#D30015']:\n",
    "        return 'republican'\n",
    "    return 'other'\n",
    "\n",
    "\n",
    "def error_data(url):\n",
    "    id = id_from_url(url)\n",
    "    xml = get_poll_xml(id)\n",
    "    \n",
    "    colors = plot_colors(xml)\n",
    "    if len(colors) == 0:\n",
    "        return pd.DataFrame()\n",
    "    \n",
    "    df = rcp_poll_data(xml)\n",
    "    result = race_result(url)\n",
    "    \n",
    "    df = df.rename(columns={c: _strip(c) for c in df.columns})\n",
    "    for k, v in result.items():\n",
    "        result[_strip(k)] = v \n",
    "    \n",
    "    #display(df)\n",
    "    col_name =df.columns[2]\n",
    "    df=df.rename(columns = {col_name:'date'})\n",
    "    display(df)\n",
    "    candidates = [c for c in df.columns if c is not 'date']\n",
    "        \n",
    "    df.index = df.date\n",
    "    \n",
    "    df = df.resample('D').mean()\n",
    "    df = df.dropna()\n",
    "    \n",
    "    forecast_length = (df.date.max() - df.date).values\n",
    "    forecast_length = forecast_length / np.timedelta64(1, 'D')  # convert to number of days\n",
    "    \n",
    "    errors = {}\n",
    "    normalized = {}\n",
    "    poll_lead = {}\n",
    "    \n",
    "    for c in candidates:\n",
    "        corr = df[c].values / df[candidates].sum(axis=1).values * 100.\n",
    "        err = corr - result[_strip(c)]\n",
    "        \n",
    "        normalized[c] = corr\n",
    "        errors[c] = err\n",
    "        \n",
    "    n = forecast_length.size\n",
    "    \n",
    "    result = {}\n",
    "    result['percentage'] = np.hstack(normalized[c] for c in candidates)\n",
    "    result['error'] = np.hstack(errors[c] for c in candidates)\n",
    "    result['candidate'] = np.hstack(np.repeat(c, n) for c in candidates)\n",
    "    result['party'] = np.hstack(np.repeat(party_from_color(colors[_strip(c)]), n) for c in candidates)\n",
    "    result['forecast_length'] = np.hstack(forecast_length for _ in candidates)\n",
    "    \n",
    "    result = pd.DataFrame(result)\n",
    "    return result"
   ]
  },
  {
   "cell_type": "code",
   "execution_count": null,
   "metadata": {
    "collapsed": true
   },
   "outputs": [],
   "source": [
    "def all_error_data():\n",
    "    data = [error_data(race_page) for race_page in find_governor_races(page)]\n",
    "    return pd.concat(data, ignore_index=True)"
   ]
  },
  {
   "cell_type": "code",
   "execution_count": null,
   "metadata": {
    "collapsed": false
   },
   "outputs": [],
   "source": [
    "errors = all_error_data()"
   ]
  },
  {
   "cell_type": "code",
   "execution_count": null,
   "metadata": {
    "collapsed": false
   },
   "outputs": [],
   "source": [
    "errors.error.hist(bins=50)\n",
    "plt.xlabel(\"Polling Error\")\n",
    "plt.ylabel('N')"
   ]
  },
  {
   "cell_type": "code",
   "execution_count": null,
   "metadata": {
    "collapsed": true
   },
   "outputs": [],
   "source": [
    "errors.error.std()"
   ]
  },
  {
   "cell_type": "code",
   "execution_count": null,
   "metadata": {
    "collapsed": true
   },
   "outputs": [],
   "source": [
    "print \"< 7 days: %0.2f\" % errors[errors.forecast_length < 7].error.std()\n",
    "print \">30 days: %0.2f\" % errors[errors.forecast_length > 30].error.std()"
   ]
  },
  {
   "cell_type": "code",
   "execution_count": null,
   "metadata": {
    "collapsed": true
   },
   "outputs": [],
   "source": [
    "def bootstrap_result(c1, c2, errors, nsample=1000):\n",
    "    tot = (c1 + c2)\n",
    "    c1 = 100. * c1 / tot\n",
    "    c2 = 100. * c2 / tot\n",
    "    \n",
    "    indices = np.random.randint(0, errors.shape[0], nsample)\n",
    "    errors = errors.error.irow(indices).values\n",
    "    \n",
    "    c1_actual = c1 - errors\n",
    "    c2_actual = c2 + errors\n",
    "    \n",
    "    p1 = (c1_actual > c2_actual).mean()\n",
    "    p2 = 1 - p1\n",
    "    return p1, p2\n",
    "\n",
    "\n",
    "nsample = 10000\n",
    "mcauliffe, cuccinelli = 43.0, 39.0\n",
    "\n",
    "pm, pc = bootstrap_result(mcauliffe, cuccinelli, errors, nsample=nsample)\n",
    "print \"Virginia Race\"\n",
    "print \"-------------------------\"\n",
    "print \"P(McAuliffe wins)  = %0.2f\" % pm\n",
    "print \"P(Cuccinelli wins) = %0.2f\" % pc\n",
    "\n",
    "#new jersey\n",
    "print \"\\n\\n\"\n",
    "print \"New Jersey Race\"\n",
    "print \"-----------------------\"\n",
    "christie, buono = 55.4, 31.8\n",
    "pc, pb = bootstrap_result(christie, buono, errors, nsample=nsample)\n",
    "print \"P(Christie wins) = %0.2f\" % pc\n",
    "print \"P(Buono wins)    = %0.2f\" % pb"
   ]
  }
 ],
 "metadata": {
  "celltoolbar": "Raw Cell Format",
  "kernelspec": {
   "display_name": "Python 2",
   "language": "python",
   "name": "python2"
  },
  "language_info": {
   "codemirror_mode": {
    "name": "ipython",
    "version": 2
   },
   "file_extension": ".py",
   "mimetype": "text/x-python",
   "name": "python",
   "nbconvert_exporter": "python",
   "pygments_lexer": "ipython2",
   "version": "2.7.13"
  }
 },
 "nbformat": 4,
 "nbformat_minor": 2
}
